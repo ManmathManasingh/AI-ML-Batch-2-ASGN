{
 "cells": [
  {
   "cell_type": "markdown",
   "metadata": {},
   "source": [
    "## Addition, Subtraction, Multiplication, Division, Floor division & Modulo Operations on complex numbers."
   ]
  },
  {
   "cell_type": "code",
   "execution_count": 3,
   "metadata": {},
   "outputs": [
    {
     "name": "stdout",
     "output_type": "stream",
     "text": [
      "Addition of two complex number = (7+7j)\n",
      "Subtraction of two complex number = (1+55j)\n",
      "Multiplication of two complex number = (756-3j)\n",
      "Division of two complex number = (-1.2512820512820513+0.3230769230769231j)\n"
     ]
    }
   ],
   "source": [
    "a= 4+31j\n",
    "b= 3-24j\n",
    "c= a+b\n",
    "d= a-b\n",
    "e= a*b\n",
    "f= a/b\n",
    "\n",
    "print (\"Addition of two complex number =\",c )\n",
    "print (\"Subtraction of two complex number =\",d )\n",
    "print (\"Multiplication of two complex number =\",e )\n",
    "print (\"Division of two complex number =\",f )"
   ]
  },
  {
   "cell_type": "markdown",
   "metadata": {},
   "source": [
    "## 2.Range() functions \n",
    "\n",
    "* Range is complete sets all possible results of dependant variables after substituting all possible values."
   ]
  },
  {
   "cell_type": "markdown",
   "metadata": {},
   "source": [
    "## 3.if...else Statement,  Performing subtraction and if the result of subtraction is greater than 25, print  multiplication result else print division result."
   ]
  },
  {
   "cell_type": "code",
   "execution_count": 12,
   "metadata": {},
   "outputs": [
    {
     "name": "stdout",
     "output_type": "stream",
     "text": [
      "division result 2500\n"
     ]
    }
   ],
   "source": [
    "A = 100\n",
    "B = 25\n",
    "if(A - B < 25):\n",
    "    print(\"multiplication result\", A / B)\n",
    "else:\n",
    "     print(\"division result\", A * B)\n",
    "       \n"
   ]
  },
  {
   "cell_type": "code",
   "execution_count": 14,
   "metadata": {},
   "outputs": [
    {
     "name": "stdout",
     "output_type": "stream",
     "text": [
      "multiplication result 1.8\n"
     ]
    }
   ],
   "source": [
    "A = 9\n",
    "B = 5\n",
    "if(A - B < 25):\n",
    "    print(\"multiplication result\", A / B)\n",
    "else:\n",
    "     print(\"division result\", A * B)\n",
    "       "
   ]
  },
  {
   "cell_type": "markdown",
   "metadata": {},
   "source": [
    "## 4.list of 10 elements of integer values. If the number in the list is divisible by 2, print the result as\"square of that number minus 2\"."
   ]
  },
  {
   "cell_type": "code",
   "execution_count": 6,
   "metadata": {},
   "outputs": [
    {
     "name": "stdout",
     "output_type": "stream",
     "text": [
      "10\n",
      "square of number minus 2= 98\n",
      "23\n",
      "44\n",
      "square of number minus 2= 1934\n",
      "16\n",
      "square of number minus 2= 254\n",
      "58\n",
      "square of number minus 2= 3362\n",
      "47\n",
      "52\n",
      "square of number minus 2= 2702\n",
      "12\n",
      "square of number minus 2= 142\n",
      "9\n",
      "34\n",
      "square of number minus 2= 1154\n"
     ]
    }
   ],
   "source": [
    "l=[10,23,44,16,58,47,52,12,9,34]\n",
    "for i in l:\n",
    "    print(i)\n",
    "    if i%2== 0:\n",
    "        print(\"square of number minus 2=\", (i**2)-2)\n",
    "\n",
    "     "
   ]
  },
  {
   "cell_type": "markdown",
   "metadata": {},
   "source": [
    "## 5. list of 10 elements. Print all the elements in the list which are greater than 7 when that numberis divided 2."
   ]
  },
  {
   "cell_type": "code",
   "execution_count": 7,
   "metadata": {},
   "outputs": [
    {
     "name": "stdout",
     "output_type": "stream",
     "text": [
      "10\n"
     ]
    }
   ],
   "source": [
    "l=[10,21,5,14,58,47,29,12,9,34]\n",
    "for i in l:\n",
    "    if i/2>7:\n",
    "        break\n",
    "    else: \n",
    "        print(i)"
   ]
  },
  {
   "cell_type": "code",
   "execution_count": null,
   "metadata": {},
   "outputs": [],
   "source": []
  },
  {
   "cell_type": "code",
   "execution_count": null,
   "metadata": {},
   "outputs": [],
   "source": []
  }
 ],
 "metadata": {
  "kernelspec": {
   "display_name": "Python 3",
   "language": "python",
   "name": "python3"
  },
  "language_info": {
   "codemirror_mode": {
    "name": "ipython",
    "version": 3
   },
   "file_extension": ".py",
   "mimetype": "text/x-python",
   "name": "python",
   "nbconvert_exporter": "python",
   "pygments_lexer": "ipython3",
   "version": "3.8.3"
  }
 },
 "nbformat": 4,
 "nbformat_minor": 4
}
