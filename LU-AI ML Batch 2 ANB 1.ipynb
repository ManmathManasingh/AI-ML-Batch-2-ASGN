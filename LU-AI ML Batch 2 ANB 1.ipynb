{
 "cells": [
  {
   "cell_type": "markdown",
   "metadata": {},
   "source": [
    "## 1.Subtract two complex numbers in Python."
   ]
  },
  {
   "cell_type": "code",
   "execution_count": 8,
   "metadata": {},
   "outputs": [
    {
     "name": "stdout",
     "output_type": "stream",
     "text": [
      "Subtraction of two complex number = (1+55j)\n"
     ]
    }
   ],
   "source": [
    "a= 4+31j\n",
    "b= 3-24j\n",
    "c= a-b\n",
    "print (\"Subtraction of two complex number =\",c )"
   ]
  },
  {
   "cell_type": "markdown",
   "metadata": {},
   "source": [
    "## 2.Fourth root of a number in Python."
   ]
  },
  {
   "cell_type": "code",
   "execution_count": 24,
   "metadata": {},
   "outputs": [
    {
     "data": {
      "text/plain": [
       "3.0"
      ]
     },
     "execution_count": 24,
     "metadata": {},
     "output_type": "execute_result"
    }
   ],
   "source": [
    "81**(1/4)"
   ]
  },
  {
   "cell_type": "markdown",
   "metadata": {},
   "source": [
    "## 3.swap two numbers in Python with the help of a temporary variable."
   ]
  },
  {
   "cell_type": "code",
   "execution_count": 3,
   "metadata": {},
   "outputs": [
    {
     "name": "stdout",
     "output_type": "stream",
     "text": [
      "Enter First Number: 19\n",
      "Enter Second Number: 199\n",
      "Value of num1 after swapping:  199\n",
      "Value of num2 after swapping:  19\n"
     ]
    }
   ],
   "source": [
    "a = input('Enter First Number: ')\n",
    "b = input('Enter Second Number: ')\n",
    "c=a\n",
    "a=b\n",
    "b=c\n",
    "print(\"Value of num1 after swapping: \", a)\n",
    "print(\"Value of num2 after swapping: \", b)"
   ]
  },
  {
   "cell_type": "markdown",
   "metadata": {},
   "source": [
    "## 4.swap two numbers in Python without using a temporary variable."
   ]
  },
  {
   "cell_type": "code",
   "execution_count": 4,
   "metadata": {},
   "outputs": [
    {
     "name": "stdout",
     "output_type": "stream",
     "text": [
      "Enter First Number: 15\n",
      "Enter Second Number: 32\n",
      "Value of num1 after swapping:  32\n",
      "Value of num2 after swapping:  15\n"
     ]
    }
   ],
   "source": [
    "a = input('Enter First Number: ')\n",
    "b = input('Enter Second Number: ')\n",
    "a,b=b,a\n",
    "print(\"Value of num1 after swapping: \", a)\n",
    "print(\"Value of num2 after swapping: \", b)"
   ]
  },
  {
   "cell_type": "markdown",
   "metadata": {},
   "source": [
    "## 5.convert Fahrenheit to kelvin and celsius both."
   ]
  },
  {
   "cell_type": "code",
   "execution_count": 10,
   "metadata": {},
   "outputs": [
    {
     "name": "stdout",
     "output_type": "stream",
     "text": [
      "Temperature in fahrenheit: 120\n",
      "120.00 Fahrenheit is:48.89 Celsius\n",
      "48.89 Celsius = 322.04 Kelvin.\n"
     ]
    }
   ],
   "source": [
    "fahrenheit = float(input(\"Temperature in fahrenheit: \"))\n",
    "celsius = (fahrenheit - 32) * 5/9\n",
    "kelvin = 273.15 + celsius\n",
    "print('%.2f Fahrenheit is:%0.2f Celsius' %(fahrenheit, celsius))\n",
    "print('%0.2f Celsius = %0.2f Kelvin.' % (celsius, kelvin))"
   ]
  },
  {
   "cell_type": "markdown",
   "metadata": {},
   "source": [
    "## 6.all the available data types in Python."
   ]
  },
  {
   "cell_type": "code",
   "execution_count": 7,
   "metadata": {},
   "outputs": [
    {
     "name": "stdout",
     "output_type": "stream",
     "text": [
      "<class 'int'>\n",
      "<class 'str'>\n",
      "<class 'float'>\n",
      "<class 'complex'>\n"
     ]
    }
   ],
   "source": [
    "a=10  \n",
    "b=\"Lets Upgrade AI/ML Batch 2\"  \n",
    "c = 10.5  \n",
    "d = 1+3j  \n",
    "print(type(a))  \n",
    "print(type(b))  \n",
    "print(type(c)) \n",
    "print(type(d))"
   ]
  },
  {
   "cell_type": "code",
   "execution_count": null,
   "metadata": {},
   "outputs": [],
   "source": []
  }
 ],
 "metadata": {
  "kernelspec": {
   "display_name": "Python 3",
   "language": "python",
   "name": "python3"
  },
  "language_info": {
   "codemirror_mode": {
    "name": "ipython",
    "version": 3
   },
   "file_extension": ".py",
   "mimetype": "text/x-python",
   "name": "python",
   "nbconvert_exporter": "python",
   "pygments_lexer": "ipython3",
   "version": "3.8.3"
  }
 },
 "nbformat": 4,
 "nbformat_minor": 4
}
